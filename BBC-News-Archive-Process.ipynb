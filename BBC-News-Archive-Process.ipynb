{
 "cells": [
  {
   "cell_type": "code",
   "execution_count": 1,
   "metadata": {},
   "outputs": [
    {
     "name": "stderr",
     "output_type": "stream",
     "text": [
      "SYSTEM_WGETRC = c:/progra~1/wget/etc/wgetrc\n",
      "syswgetrc = C:\\Program Files (x86)\\Gow/etc/wgetrc\n",
      "--2020-07-06 02:24:03--  https://storage.googleapis.com/laurencemoroney-blog.appspot.com/bbc-text.csv\n",
      "Resolving storage.googleapis.com... 172.217.0.240, 172.217.165.16, 172.217.164.240, ...\n",
      "Connecting to storage.googleapis.com|172.217.0.240|:443... connected.\n",
      "WARNING: cannot verify storage.googleapis.com's certificate, issued by `/C=US/O=Google Trust Services/CN=GTS CA 1O1':\n",
      "  Unable to locally verify the issuer's authority.\n",
      "WARNING: certificate common name `*.storage.googleapis.com' doesn't match requested host name `storage.googleapis.com'.\n",
      "HTTP request sent, awaiting response... 200 OK\n",
      "Length: 5057493 (4.8M) [application/octet-stream]\n",
      "Saving to: `D:/Projects/NLP/dataset/bbc-text.csv'\n",
      "\n",
      "     0K .......... .......... .......... .......... ..........  1% 1.11M 4s\n",
      "    50K .......... .......... .......... .......... ..........  2% 1.62M 4s\n",
      "   100K .......... .......... .......... .......... ..........  3% 1.37M 4s\n",
      "   150K .......... .......... .......... .......... ..........  4% 5.98M 3s\n",
      "   200K .......... .......... .......... .......... ..........  5% 1.63M 3s\n",
      "   250K .......... .......... .......... .......... ..........  6% 1.78M 3s\n",
      "   300K .......... .......... .......... .......... ..........  7% 2.32M 3s\n",
      "   350K .......... .......... .......... .......... ..........  8% 1.56M 3s\n",
      "   400K .......... .......... .......... .......... ..........  9% 1.38M 3s\n",
      "   450K .......... .......... .......... .......... .......... 10% 4.17M 2s\n",
      "   500K .......... .......... .......... .......... .......... 11% 1.14M 3s\n",
      "   550K .......... .......... .......... .......... .......... 12% 3.56M 2s\n",
      "   600K .......... .......... .......... .......... .......... 13% 2.11M 2s\n",
      "   650K .......... .......... .......... .......... .......... 14% 1.23M 2s\n",
      "   700K .......... .......... .......... .......... .......... 15% 7.44M 2s\n",
      "   750K .......... .......... .......... .......... .......... 16% 3.28M 2s\n",
      "   800K .......... .......... .......... .......... .......... 17% 1.90M 2s\n",
      "   850K .......... .......... .......... .......... .......... 18% 1.78M 2s\n",
      "   900K .......... .......... .......... .......... .......... 19% 2.93M 2s\n",
      "   950K .......... .......... .......... .......... .......... 20% 1.46M 2s\n",
      "  1000K .......... .......... .......... .......... .......... 21% 1.17M 2s\n",
      "  1050K .......... .......... .......... .......... .......... 22% 3.64M 2s\n",
      "  1100K .......... .......... .......... .......... .......... 23% 1.71M 2s\n",
      "  1150K .......... .......... .......... .......... .......... 24% 2.76M 2s\n",
      "  1200K .......... .......... .......... .......... .......... 25% 1.51M 2s\n",
      "  1250K .......... .......... .......... .......... .......... 26% 1.71M 2s\n",
      "  1300K .......... .......... .......... .......... .......... 27% 1.90M 2s\n",
      "  1350K .......... .......... .......... .......... .......... 28% 4.49M 2s\n",
      "  1400K .......... .......... .......... .......... .......... 29% 1.57M 2s\n",
      "  1450K .......... .......... .......... .......... .......... 30% 5.35M 2s\n",
      "  1500K .......... .......... .......... .......... .......... 31% 2.13M 2s\n",
      "  1550K .......... .......... .......... .......... .......... 32% 1.50M 2s\n",
      "  1600K .......... .......... .......... .......... .......... 33% 2.02M 2s\n",
      "  1650K .......... .......... .......... .......... .......... 34% 1.66M 2s\n",
      "  1700K .......... .......... .......... .......... .......... 35%  653K 2s\n",
      "  1750K .......... .......... .......... .......... .......... 36% 8.55M 2s\n"
     ]
    }
   ],
   "source": [
    "!wget --no-check-certificate \\\n",
    "    https://storage.googleapis.com/laurencemoroney-blog.appspot.com/bbc-text.csv \\\n",
    "    -O D:\\Projects\\NLP\\dataset\\bbc-text.csv\n"
   ]
  },
  {
   "cell_type": "code",
   "execution_count": 2,
   "metadata": {},
   "outputs": [
    {
     "name": "stderr",
     "output_type": "stream",
     "text": [
      "  1800K .......... .......... .......... .......... .......... 37% 4.99M 2s\n",
      "  1850K .......... .......... .......... .......... .......... 38% 8.98M 2s\n",
      "  1900K .......... .......... .......... .......... .......... 39% 7.34M 1s\n",
      "  1950K .......... .......... .......... .......... .......... 40% 2.18M 1s\n",
      "  2000K .......... .......... .......... .......... .......... 41% 1.64M 1s\n",
      "  2050K .......... .......... .......... .......... .......... 42% 9.18M 1s\n",
      "  2100K .......... .......... .......... .......... .......... 43% 1.57M 1s\n",
      "  2150K .......... .......... .......... .......... .......... 44% 1.67M 1s\n",
      "  2200K .......... .......... .......... .......... .......... 45% 2.68M 1s\n",
      "  2250K .......... .......... .......... .......... .......... 46% 9.11M 1s\n",
      "  2300K .......... .......... .......... .......... .......... 47% 1.66M 1s\n",
      "  2350K .......... .......... .......... .......... .......... 48% 2.41M 1s\n",
      "  2400K .......... .......... .......... .......... .......... 49% 2.61M 1s\n",
      "  2450K .......... .......... .......... .......... .......... 50% 1.24M 1s\n",
      "  2500K .......... .......... .......... .......... .......... 51% 2.72M 1s\n",
      "  2550K .......... .......... .......... .......... .......... 52% 6.67M 1s\n",
      "  2600K .......... .......... .......... .......... .......... 53% 1.69M 1s\n",
      "  2650K .......... .......... .......... .......... .......... 54% 4.24M 1s\n",
      "  2700K .......... .......... .......... .......... .......... 55%  972K 1s\n",
      "  2750K .......... .......... .......... .......... .......... 56% 1.20M 1s\n",
      "  2800K .......... .......... .......... .......... .......... 57% 6.85M 1s\n",
      "  2850K .......... .......... .......... .......... .......... 58% 8.42M 1s\n",
      "  2900K .......... .......... .......... .......... .......... 59% 2.32M 1s\n",
      "  2950K .......... .......... .......... .......... .......... 60% 2.45M 1s\n",
      "  3000K .......... .......... .......... .......... .......... 61% 2.79M 1s\n",
      "  3050K .......... .......... .......... .......... .......... 62% 1.17M 1s\n",
      "  3100K .......... .......... .......... .......... .......... 63% 3.00M 1s\n",
      "  3150K .......... .......... .......... .......... .......... 64% 1.59M 1s\n",
      "  3200K .......... .......... .......... .......... .......... 65% 7.67M 1s\n",
      "  3250K .......... .......... .......... .......... .......... 66% 2.18M 1s\n",
      "  3300K .......... .......... .......... .......... .......... 67% 3.75M 1s\n",
      "  3350K .......... .......... .......... .......... .......... 68% 1.74M 1s\n",
      "  3400K .......... .......... .......... .......... .......... 69% 2.86M 1s\n",
      "  3450K .......... .......... .......... .......... .......... 70%  977K 1s\n",
      "  3500K .......... .......... .......... .......... .......... 71% 9.23M 1s\n",
      "  3550K .......... .......... .......... .......... .......... 72% 6.60M 1s\n",
      "  3600K .......... .......... .......... .......... .......... 73% 6.29M 1s\n",
      "  3650K .......... .......... .......... .......... .......... 74%  998K 1s\n",
      "  3700K .......... .......... .......... .......... .......... 75% 1.97M 1s\n",
      "  3750K .......... .......... .......... .......... .......... 76% 4.00M 1s\n",
      "  3800K .......... .......... .......... .......... .......... 77% 1.62M 1s\n",
      "  3850K .......... .......... .......... .......... .......... 78% 2.85M 0s\n",
      "  3900K .......... .......... .......... .......... .......... 79% 3.07M 0s\n",
      "  3950K .......... .......... .......... .......... .......... 80% 1.62M 0s\n",
      "  4000K .......... .......... .......... .......... .......... 82% 1.17M 0s\n",
      "  4050K .......... .......... .......... .......... .......... 83% 7.35M 0s\n",
      "  4100K .......... .......... .......... .......... .......... 84% 1.79M 0s\n",
      "  4150K .......... .......... .......... .......... .......... 85% 5.56M 0s\n",
      "  4200K .......... .......... .......... .......... .......... 86% 1.11M 0s\n",
      "  4250K .......... .......... .......... .......... .......... 87% 8.31M 0s\n",
      "  4300K .......... .......... .......... .......... .......... 88% 2.11M 0s\n",
      "  4350K .......... .......... .......... .......... .......... 89% 2.32M 0s\n",
      "  4400K .......... .......... .......... .......... .......... 90% 2.57M 0s\n",
      "  4450K .......... .......... .......... .......... .......... 91% 1.23M 0s\n",
      "  4500K .......... .......... .......... .......... .......... 92% 1.34M 0s\n",
      "  4550K .......... .......... .......... .......... .......... 93% 2.52M 0s\n",
      "  4600K .......... .......... .......... .......... .......... 94% 5.11M 0s\n",
      "  4650K .......... .......... .......... .......... .......... 95% 1.22M 0s\n",
      "  4700K .......... .......... .......... .......... .......... 96% 7.71M 0s\n",
      "  4750K .......... .......... .......... .......... .......... 97% 1.84M 0s\n",
      "  4800K .......... .......... .......... .......... .......... 98% 6.49M 0s\n",
      "  4850K .......... .......... .......... .......... .......... 99% 1.27M 0s\n",
      "  4900K .......... .......... .......... ........             100% 15.8M=2.3s\n",
      "\n",
      "2020-07-06 02:24:06 (2.10 MB/s) - `D:/Projects/NLP/dataset/bbc-text.csv' saved [5057493/5057493]\n",
      "\n"
     ]
    }
   ],
   "source": [
    "import csv\n",
    "import re\n",
    "\n",
    "from tensorflow.keras.preprocessing.text import Tokenizer\n",
    "from tensorflow.keras.preprocessing.sequence import pad_sequences"
   ]
  },
  {
   "cell_type": "code",
   "execution_count": 3,
   "metadata": {},
   "outputs": [],
   "source": [
    "stopwords = [ \"a\", \"about\", \"above\", \"after\", \"again\", \"against\", \"all\", \"am\", \"an\", \"and\", \"any\", \"are\", \"as\", \n",
    "             \"at\", \"be\", \"because\", \"been\", \"before\", \"being\", \"below\", \"between\", \"both\", \"but\", \"by\", \"could\",\n",
    "             \"did\", \"do\", \"does\", \"doing\", \"down\", \"during\", \"each\", \"few\", \"for\", \"from\", \"further\", \"had\", \"has\",\n",
    "             \"have\", \"having\", \"he\", \"he'd\", \"he'll\", \"he's\", \"her\", \"here\", \"here's\", \"hers\", \"herself\", \"him\",\n",
    "             \"himself\", \"his\", \"how\", \"how's\", \"i\", \"i'd\", \"i'll\", \"i'm\", \"i've\", \"if\", \"in\", \"into\", \"is\", \"it\",\n",
    "             \"it's\", \"its\", \"itself\", \"let's\", \"me\", \"more\", \"most\", \"my\", \"myself\", \"nor\", \"of\", \"on\", \"once\",\n",
    "             \"only\", \"or\", \"other\", \"ought\", \"our\", \"ours\", \"ourselves\", \"out\", \"over\", \"own\", \"same\", \"she\",\n",
    "             \"she'd\", \"she'll\", \"she's\", \"should\", \"so\", \"some\", \"such\", \"than\", \"that\", \"that's\", \"the\", \"their\",\n",
    "             \"theirs\", \"them\", \"themselves\", \"then\", \"there\", \"there's\", \"these\", \"they\", \"they'd\", \"they'll\", \"they're\",\n",
    "             \"they've\", \"this\", \"those\", \"through\", \"to\", \"too\", \"under\", \"until\", \"up\", \"very\", \"was\", \"we\", \"we'd\",\n",
    "             \"we'll\", \"we're\", \"we've\", \"were\", \"what\", \"what's\", \"when\", \"when's\", \"where\", \"where's\", \"which\", \"while\",\n",
    "             \"who\", \"who's\", \"whom\", \"why\", \"why's\", \"with\", \"would\", \"you\", \"you'd\", \"you'll\", \"you're\", \"you've\", \"your\",\n",
    "             \"yours\", \"yourself\", \"yourselves\" ];"
   ]
  },
  {
   "cell_type": "code",
   "execution_count": 18,
   "metadata": {},
   "outputs": [
    {
     "name": "stdout",
     "output_type": "stream",
     "text": [
      "2225\n",
      "tv future hands viewers home theatre systems plasma high-definition tvs digital video recorders moving living room way people watch tv will radically different five years time. according expert panel gathered annual consumer electronics show las vegas discuss new technologies will impact one favourite pastimes. us leading trend programmes content will delivered viewers via home networks cable satellite telecoms companies broadband service providers front rooms portable devices. one talked-about technologies ces digital personal video recorders (dvr pvr). set-top boxes like us s tivo uk s sky+ system allow people record store play pause forward wind tv programmes want. essentially technology allows much personalised tv. also built-in high-definition tv sets big business japan us slower take off europe lack high-definition programming. not can people forward wind adverts can also forget abiding network channel schedules putting together a-la-carte entertainment. us networks cable satellite companies worried means terms advertising revenues well brand identity viewer loyalty channels. although us leads technology moment also concern raised europe particularly growing uptake services like sky+. happens today will see nine months years time uk adam hume bbc broadcast s futurologist told bbc news website. likes bbc no issues lost advertising revenue yet. pressing issue moment commercial uk broadcasters brand loyalty important everyone. will talking content brands rather network brands said tim hanlon brand communications firm starcom mediavest. reality broadband connections anybody can producer content. added: challenge now hard promote programme much choice. means said stacey jolna senior vice president tv guide tv group way people find content want watch simplified tv viewers. means networks us terms channels take leaf google s book search engine future instead scheduler help people find want watch. kind channel model might work younger ipod generation used taking control gadgets play them. might not suit everyone panel recognised. older generations comfortable familiar schedules channel brands know getting. perhaps not want much choice put hands mr hanlon suggested. end kids just diapers pushing buttons already - everything possible available said mr hanlon. ultimately consumer will tell market want. 50 000 new gadgets technologies showcased ces many enhancing tv-watching experience. high-definition tv sets everywhere many new models lcd (liquid crystal display) tvs launched dvr capability built instead external boxes. one example launched show humax s 26-inch lcd tv 80-hour tivo dvr dvd recorder. one us s biggest satellite tv companies directtv even launched branded dvr show 100-hours recording capability instant replay search function. set can pause rewind tv 90 hours. microsoft chief bill gates announced pre-show keynote speech partnership tivo called tivotogo means people can play recorded programmes windows pcs mobile devices. reflect increasing trend freeing multimedia people can watch want want.\n"
     ]
    }
   ],
   "source": [
    "sentences = []\n",
    "labels = []\n",
    "\n",
    "with open('dataset/bbc-text.csv' , 'r') as csvfile:\n",
    "    reader = csv.reader(csvfile)\n",
    "    next(reader,None)\n",
    "    for row in reader:\n",
    "        labels.append(row[0])       \n",
    "        sentence = row[1]\n",
    "        \n",
    "        for word in stopwords:\n",
    "            token = \" {} \".format(word)\n",
    "            sentence = sentence.replace(token, \" \")\n",
    "            sentence = sentence.replace(\"  \", \" \")\n",
    "        \n",
    "        sentences.append(sentence)\n",
    "\n",
    "print(len(sentences))\n",
    "print(sentences[0])"
   ]
  },
  {
   "cell_type": "code",
   "execution_count": 19,
   "metadata": {},
   "outputs": [
    {
     "name": "stdout",
     "output_type": "stream",
     "text": [
      "29714\n"
     ]
    }
   ],
   "source": [
    "tokenizer = Tokenizer(oov_token='<OOV>')\n",
    "tokenizer.fit_on_texts(sentences)\n",
    "word_index = tokenizer.word_index\n",
    "\n",
    "print(len(word_index))"
   ]
  },
  {
   "cell_type": "code",
   "execution_count": 20,
   "metadata": {},
   "outputs": [
    {
     "name": "stdout",
     "output_type": "stream",
     "text": [
      "[  96  176 1158 ...    0    0    0]\n",
      "(2225, 2442)\n"
     ]
    }
   ],
   "source": [
    "sequences = tokenizer.texts_to_sequences(sentences)\n",
    "padded = pad_sequences(sequences, padding='post')\n",
    "print(padded[0])\n",
    "print(padded.shape)"
   ]
  },
  {
   "cell_type": "code",
   "execution_count": 22,
   "metadata": {},
   "outputs": [
    {
     "name": "stdout",
     "output_type": "stream",
     "text": [
      "{'sport': 1, 'business': 2, 'politics': 3, 'tech': 4, 'entertainment': 5}\n"
     ]
    }
   ],
   "source": [
    "label_tokenizer = Tokenizer()\n",
    "label_tokenizer.fit_on_texts(labels)\n",
    "label_word_index = label_tokenizer.word_index\n",
    "label_seq = label_tokenizer.texts_to_sequences(labels)\n",
    "#print(label_seq)\n",
    "print(label_word_index)"
   ]
  }
 ],
 "metadata": {
  "kernelspec": {
   "display_name": "Python 3",
   "language": "python",
   "name": "python3"
  },
  "language_info": {
   "codemirror_mode": {
    "name": "ipython",
    "version": 3
   },
   "file_extension": ".py",
   "mimetype": "text/x-python",
   "name": "python",
   "nbconvert_exporter": "python",
   "pygments_lexer": "ipython3",
   "version": "3.7.7"
  }
 },
 "nbformat": 4,
 "nbformat_minor": 4
}
