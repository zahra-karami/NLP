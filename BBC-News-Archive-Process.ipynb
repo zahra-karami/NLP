{
 "cells": [
  {
   "cell_type": "code",
   "execution_count": 1,
   "metadata": {
    "scrolled": false
   },
   "outputs": [],
   "source": [
    "#!wget --no-check-certificate \\\n",
    "#    https://storage.googleapis.com/laurencemoroney-blog.appspot.com/bbc-text.csv \\\n",
    "#    -O D:\\Projects\\NLP\\dataset\\bbc-text.csv\n"
   ]
  },
  {
   "cell_type": "code",
   "execution_count": 2,
   "metadata": {},
   "outputs": [],
   "source": [
    "import csv\n",
    "import re\n",
    "import numpy as np"
   ]
  },
  {
   "cell_type": "code",
   "execution_count": 3,
   "metadata": {},
   "outputs": [],
   "source": [
    "import tensorflow as tf\n",
    "from tensorflow.keras.preprocessing.text import Tokenizer\n",
    "from tensorflow.keras.preprocessing.sequence import pad_sequences"
   ]
  },
  {
   "cell_type": "code",
   "execution_count": 17,
   "metadata": {},
   "outputs": [],
   "source": [
    "import matplotlib.pyplot as plt\n",
    "\n",
    "\n",
    "def plot_graphs(history, string):\n",
    "    plt.plot(history.history[string])\n",
    "    plt.plot(history.history['val_'+string])\n",
    "    plt.xlabel(\"Epochs\")\n",
    "    plt.ylabel(string)\n",
    "    plt.legend([string, 'val_'+string])\n",
    "    plt.show()\n",
    "  "
   ]
  },
  {
   "cell_type": "code",
   "execution_count": 4,
   "metadata": {},
   "outputs": [],
   "source": [
    "stopwords = [ \"a\", \"about\", \"above\", \"after\", \"again\", \"against\", \"all\", \"am\", \"an\", \"and\", \"any\", \"are\", \"as\", \n",
    "             \"at\", \"be\", \"because\", \"been\", \"before\", \"being\", \"below\", \"between\", \"both\", \"but\", \"by\", \"could\",\n",
    "             \"did\", \"do\", \"does\", \"doing\", \"down\", \"during\", \"each\", \"few\", \"for\", \"from\", \"further\", \"had\", \"has\",\n",
    "             \"have\", \"having\", \"he\", \"he'd\", \"he'll\", \"he's\", \"her\", \"here\", \"here's\", \"hers\", \"herself\", \"him\",\n",
    "             \"himself\", \"his\", \"how\", \"how's\", \"i\", \"i'd\", \"i'll\", \"i'm\", \"i've\", \"if\", \"in\", \"into\", \"is\", \"it\",\n",
    "             \"it's\", \"its\", \"itself\", \"let's\", \"me\", \"more\", \"most\", \"my\", \"myself\", \"nor\", \"of\", \"on\", \"once\",\n",
    "             \"only\", \"or\", \"other\", \"ought\", \"our\", \"ours\", \"ourselves\", \"out\", \"over\", \"own\", \"same\", \"she\",\n",
    "             \"she'd\", \"she'll\", \"she's\", \"should\", \"so\", \"some\", \"such\", \"than\", \"that\", \"that's\", \"the\", \"their\",\n",
    "             \"theirs\", \"them\", \"themselves\", \"then\", \"there\", \"there's\", \"these\", \"they\", \"they'd\", \"they'll\", \"they're\",\n",
    "             \"they've\", \"this\", \"those\", \"through\", \"to\", \"too\", \"under\", \"until\", \"up\", \"very\", \"was\", \"we\", \"we'd\",\n",
    "             \"we'll\", \"we're\", \"we've\", \"were\", \"what\", \"what's\", \"when\", \"when's\", \"where\", \"where's\", \"which\", \"while\",\n",
    "             \"who\", \"who's\", \"whom\", \"why\", \"why's\", \"with\", \"would\", \"you\", \"you'd\", \"you'll\", \"you're\", \"you've\", \"your\",\n",
    "             \"yours\", \"yourself\", \"yourselves\" ];"
   ]
  },
  {
   "cell_type": "code",
   "execution_count": 5,
   "metadata": {},
   "outputs": [],
   "source": [
    "sentences = []\n",
    "labels = []\n",
    "with open('dataset/bbc-text.csv' , 'r') as csvfile:\n",
    "    reader = csv.reader(csvfile)\n",
    "    next(reader,None)\n",
    "    for row in reader:\n",
    "        labels.append(row[0])       \n",
    "        sentence = row[1]\n",
    "        \n",
    "        for word in stopwords:\n",
    "            token = \" {} \".format(word)\n",
    "            sentence = sentence.replace(token, \" \")\n",
    "            sentence = sentence.replace(\"  \", \" \")\n",
    "        \n",
    "        sentences.append(sentence)\n"
   ]
  },
  {
   "cell_type": "code",
   "execution_count": 6,
   "metadata": {},
   "outputs": [],
   "source": [
    "vocab_size = 10000\n",
    "embedding_dim = 16\n",
    "max_length = 120\n",
    "trunc_type = 'post'\n",
    "padding_type = 'post'\n",
    "oov_tok = \"<OOV>\"\n",
    "training_portion = .8"
   ]
  },
  {
   "cell_type": "code",
   "execution_count": 7,
   "metadata": {},
   "outputs": [],
   "source": [
    "train_size = 1780\n",
    "\n",
    "train_sentences = sentences[:train_size]\n",
    "train_labels = labels[:train_size]\n",
    "\n",
    "validation_sentences = sentences[train_size:]\n",
    "validation_labels = labels[train_size:]"
   ]
  },
  {
   "cell_type": "code",
   "execution_count": 8,
   "metadata": {},
   "outputs": [],
   "source": [
    "tokenizer = Tokenizer(num_words= vocab_size, oov_token='<OOV>')\n",
    "tokenizer.fit_on_texts(train_sentences)\n",
    "word_index = tokenizer.word_index\n",
    "\n",
    "train_sequences = tokenizer.texts_to_sequences(train_sentences)\n",
    "train_padded = pad_sequences(train_sequences, padding= padding_type , maxlen = max_length)"
   ]
  },
  {
   "cell_type": "code",
   "execution_count": 9,
   "metadata": {},
   "outputs": [],
   "source": [
    "validation_sequences = tokenizer.texts_to_sequences(validation_sentences)\n",
    "validation_padded = pad_sequences(validation_sequences, padding= padding_type , maxlen = max_length)"
   ]
  },
  {
   "cell_type": "code",
   "execution_count": 10,
   "metadata": {},
   "outputs": [],
   "source": [
    "label_tokenizer = Tokenizer()\n",
    "label_tokenizer.fit_on_texts(train_labels)\n",
    "\n",
    "training_label_seq = np.array( label_tokenizer.texts_to_sequences(train_labels))\n",
    "validation_label_seq =  np.array( label_tokenizer.texts_to_sequences(validation_labels))\n"
   ]
  },
  {
   "cell_type": "code",
   "execution_count": 13,
   "metadata": {},
   "outputs": [
    {
     "name": "stdout",
     "output_type": "stream",
     "text": [
      "Model: \"sequential_1\"\n",
      "_________________________________________________________________\n",
      "Layer (type)                 Output Shape              Param #   \n",
      "=================================================================\n",
      "embedding_1 (Embedding)      (None, 120, 16)           160000    \n",
      "_________________________________________________________________\n",
      "global_average_pooling1d_1 ( (None, 16)                0         \n",
      "_________________________________________________________________\n",
      "dense_1 (Dense)              (None, 24)                408       \n",
      "_________________________________________________________________\n",
      "dense_2 (Dense)              (None, 6)                 150       \n",
      "=================================================================\n",
      "Total params: 160,558\n",
      "Trainable params: 160,558\n",
      "Non-trainable params: 0\n",
      "_________________________________________________________________\n"
     ]
    }
   ],
   "source": [
    "\n",
    "model = tf.keras.Sequential([\n",
    "    tf.keras.layers.Embedding(vocab_size, embedding_dim, input_length= max_length),\n",
    "    tf.keras.layers.GlobalAveragePooling1D(),\n",
    "    tf.keras.layers.Dense(24, activation='relu'),\n",
    "    tf.keras.layers.Dense(6, activation='softmax')\n",
    "])\n",
    "model.compile(loss='sparse_categorical_crossentropy', optimizer='adam', metrics=['accuracy'])\n",
    "model.summary()"
   ]
  },
  {
   "cell_type": "code",
   "execution_count": 15,
   "metadata": {},
   "outputs": [
    {
     "name": "stdout",
     "output_type": "stream",
     "text": [
      "Epoch 1/30\n",
      "56/56 - 0s - loss: 1.7683 - accuracy: 0.4067 - val_loss: 1.7345 - val_accuracy: 0.5303\n",
      "Epoch 2/30\n",
      "56/56 - 0s - loss: 1.6707 - accuracy: 0.6758 - val_loss: 1.6007 - val_accuracy: 0.6921\n",
      "Epoch 3/30\n",
      "56/56 - 0s - loss: 1.4670 - accuracy: 0.7966 - val_loss: 1.3621 - val_accuracy: 0.8270\n",
      "Epoch 4/30\n",
      "56/56 - 0s - loss: 1.1624 - accuracy: 0.8961 - val_loss: 1.0602 - val_accuracy: 0.8966\n",
      "Epoch 5/30\n",
      "56/56 - 0s - loss: 0.8322 - accuracy: 0.9522 - val_loss: 0.7759 - val_accuracy: 0.9236\n",
      "Epoch 6/30\n",
      "56/56 - 0s - loss: 0.5576 - accuracy: 0.9770 - val_loss: 0.5649 - val_accuracy: 0.9326\n",
      "Epoch 7/30\n",
      "56/56 - 0s - loss: 0.3678 - accuracy: 0.9831 - val_loss: 0.4259 - val_accuracy: 0.9416\n",
      "Epoch 8/30\n",
      "56/56 - 0s - loss: 0.2478 - accuracy: 0.9888 - val_loss: 0.3375 - val_accuracy: 0.9438\n",
      "Epoch 9/30\n",
      "56/56 - 0s - loss: 0.1722 - accuracy: 0.9910 - val_loss: 0.2783 - val_accuracy: 0.9506\n",
      "Epoch 10/30\n",
      "56/56 - 0s - loss: 0.1245 - accuracy: 0.9949 - val_loss: 0.2414 - val_accuracy: 0.9506\n",
      "Epoch 11/30\n",
      "56/56 - 0s - loss: 0.0925 - accuracy: 0.9966 - val_loss: 0.2127 - val_accuracy: 0.9551\n",
      "Epoch 12/30\n",
      "56/56 - 0s - loss: 0.0705 - accuracy: 0.9972 - val_loss: 0.1947 - val_accuracy: 0.9551\n",
      "Epoch 13/30\n",
      "56/56 - 0s - loss: 0.0550 - accuracy: 0.9989 - val_loss: 0.1806 - val_accuracy: 0.9551\n",
      "Epoch 14/30\n",
      "56/56 - 0s - loss: 0.0437 - accuracy: 0.9994 - val_loss: 0.1697 - val_accuracy: 0.9551\n",
      "Epoch 15/30\n",
      "56/56 - 0s - loss: 0.0353 - accuracy: 0.9994 - val_loss: 0.1607 - val_accuracy: 0.9528\n",
      "Epoch 16/30\n",
      "56/56 - 0s - loss: 0.0289 - accuracy: 1.0000 - val_loss: 0.1546 - val_accuracy: 0.9528\n",
      "Epoch 17/30\n",
      "56/56 - 0s - loss: 0.0240 - accuracy: 1.0000 - val_loss: 0.1488 - val_accuracy: 0.9551\n",
      "Epoch 18/30\n",
      "56/56 - 0s - loss: 0.0202 - accuracy: 1.0000 - val_loss: 0.1441 - val_accuracy: 0.9551\n",
      "Epoch 19/30\n",
      "56/56 - 0s - loss: 0.0171 - accuracy: 1.0000 - val_loss: 0.1400 - val_accuracy: 0.9551\n",
      "Epoch 20/30\n",
      "56/56 - 0s - loss: 0.0147 - accuracy: 1.0000 - val_loss: 0.1367 - val_accuracy: 0.9551\n",
      "Epoch 21/30\n",
      "56/56 - 0s - loss: 0.0127 - accuracy: 1.0000 - val_loss: 0.1339 - val_accuracy: 0.9551\n",
      "Epoch 22/30\n",
      "56/56 - 0s - loss: 0.0111 - accuracy: 1.0000 - val_loss: 0.1315 - val_accuracy: 0.9573\n",
      "Epoch 23/30\n",
      "56/56 - 0s - loss: 0.0098 - accuracy: 1.0000 - val_loss: 0.1291 - val_accuracy: 0.9596\n",
      "Epoch 24/30\n",
      "56/56 - 0s - loss: 0.0087 - accuracy: 1.0000 - val_loss: 0.1274 - val_accuracy: 0.9573\n",
      "Epoch 25/30\n",
      "56/56 - 0s - loss: 0.0077 - accuracy: 1.0000 - val_loss: 0.1257 - val_accuracy: 0.9596\n",
      "Epoch 26/30\n",
      "56/56 - 0s - loss: 0.0069 - accuracy: 1.0000 - val_loss: 0.1242 - val_accuracy: 0.9596\n",
      "Epoch 27/30\n",
      "56/56 - 0s - loss: 0.0062 - accuracy: 1.0000 - val_loss: 0.1227 - val_accuracy: 0.9596\n",
      "Epoch 28/30\n",
      "56/56 - 0s - loss: 0.0056 - accuracy: 1.0000 - val_loss: 0.1216 - val_accuracy: 0.9596\n",
      "Epoch 29/30\n",
      "56/56 - 0s - loss: 0.0051 - accuracy: 1.0000 - val_loss: 0.1204 - val_accuracy: 0.9618\n",
      "Epoch 30/30\n",
      "56/56 - 0s - loss: 0.0046 - accuracy: 1.0000 - val_loss: 0.1192 - val_accuracy: 0.9618\n"
     ]
    }
   ],
   "source": [
    "num_epochs =30\n",
    "history = model.fit(train_padded, training_label_seq , epochs=num_epochs, \n",
    "                    validation_data=(validation_padded, validation_label_seq), verbose = 2)"
   ]
  },
  {
   "cell_type": "code",
   "execution_count": 18,
   "metadata": {},
   "outputs": [
    {
     "data": {
      "image/png": "[encoded data removed]",
      "text/plain": [
       "<Figure size 432x288 with 1 Axes>"
      ]
     },
     "metadata": {
      "needs_background": "light"
     },
     "output_type": "display_data"
    },
    {
     "data": {
      "image/png": "[encoded data removed]",
      "text/plain": [
       "<Figure size 432x288 with 1 Axes>"
      ]
     },
     "metadata": {
      "needs_background": "light"
     },
     "output_type": "display_data"
    }
   ],
   "source": [
    "plot_graphs(history, \"accuracy\")\n",
    "plot_graphs(history, \"loss\")reverse_word_index = dict([(value, key) for (key, value) in word_index.items()])\n"
   ]
  },
  {
   "cell_type": "code",
   "execution_count": 19,
   "metadata": {},
   "outputs": [],
   "source": [
    "reverse_word_index = dict([(value, key) for (key, value) in word_index.items()])\n",
    "def decode_sentence(text):\n",
    "    return ' '.join([reverse_word_index.get(i, '?') for i in text])"
   ]
  },
  {
   "cell_type": "code",
   "execution_count": 20,
   "metadata": {},
   "outputs": [
    {
     "name": "stdout",
     "output_type": "stream",
     "text": [
      "(10000, 16)\n"
     ]
    }
   ],
   "source": [
    "e = model.layers[0]\n",
    "weights = e.get_weights()[0]\n",
    "print(weights.shape) # shape: (vocab_size, embedding_dim)\n"
   ]
  },
  {
   "cell_type": "code",
   "execution_count": 21,
   "metadata": {},
   "outputs": [],
   "source": [
    "import io\n",
    "\n",
    "out_v = io.open('vecs.tsv', 'w', encoding='utf-8')\n",
    "out_m = io.open('meta.tsv', 'w', encoding='utf-8')\n",
    "for word_num in range(1, vocab_size):\n",
    "    word = reverse_word_index[word_num]\n",
    "    embeddings = weights[word_num]\n",
    "    out_m.write(word + \"\\n\")\n",
    "    out_v.write('\\t'.join([str(x) for x in embeddings]) + \"\\n\")\n",
    "out_v.close()\n",
    "out_m.close()"
   ]
  },
  {
   "cell_type": "code",
   "execution_count": null,
   "metadata": {},
   "outputs": [],
   "source": []
  }
 ],
 "metadata": {
  "kernelspec": {
   "display_name": "Python 3",
   "language": "python",
   "name": "python3"
  },
  "language_info": {
   "codemirror_mode": {
    "name": "ipython",
    "version": 3
   },
   "file_extension": ".py",
   "mimetype": "text/x-python",
   "name": "python",
   "nbconvert_exporter": "python",
   "pygments_lexer": "ipython3",
   "version": "3.7.7"
  }
 },
 "nbformat": 4,
 "nbformat_minor": 4
}
